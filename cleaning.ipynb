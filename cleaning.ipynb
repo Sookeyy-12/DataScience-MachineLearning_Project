{
 "cells": [
  {
   "cell_type": "markdown",
   "metadata": {},
   "source": [
    "### Load the Dataset\n",
    "print first few lines to get an overview of the dataset"
   ]
  },
  {
   "cell_type": "code",
   "execution_count": 9,
   "metadata": {},
   "outputs": [
    {
     "name": "stdout",
     "output_type": "stream",
     "text": [
      "   CustomerID  Count        Country       State         City  Zip Code  \\\n",
      "0  3668-QPYBK      1  United States  California  Los Angeles     90003   \n",
      "1  9237-HQITU      1  United States  California  Los Angeles     90005   \n",
      "2  9305-CDSKC      1  United States  California  Los Angeles     90006   \n",
      "3  7892-POOKP      1  United States  California  Los Angeles     90010   \n",
      "4  0280-XJGEX      1  United States  California  Los Angeles     90015   \n",
      "\n",
      "                 Lat Long   Latitude   Longitude  Gender  ...        Contract  \\\n",
      "0  33.964131, -118.272783  33.964131 -118.272783    Male  ...  Month-to-month   \n",
      "1   34.059281, -118.30742  34.059281 -118.307420  Female  ...  Month-to-month   \n",
      "2  34.048013, -118.293953  34.048013 -118.293953  Female  ...  Month-to-month   \n",
      "3  34.062125, -118.315709  34.062125 -118.315709  Female  ...  Month-to-month   \n",
      "4  34.039224, -118.266293  34.039224 -118.266293    Male  ...  Month-to-month   \n",
      "\n",
      "  Paperless Billing             Payment Method  Monthly Charges Total Charges  \\\n",
      "0               Yes               Mailed check            53.85        108.15   \n",
      "1               Yes           Electronic check            70.70        151.65   \n",
      "2               Yes           Electronic check            99.65         820.5   \n",
      "3               Yes           Electronic check           104.80       3046.05   \n",
      "4               Yes  Bank transfer (automatic)           103.70        5036.3   \n",
      "\n",
      "  Churn Label Churn Value Churn Score  CLTV                   Churn Reason  \n",
      "0         Yes           1          86  3239   Competitor made better offer  \n",
      "1         Yes           1          67  2701                          Moved  \n",
      "2         Yes           1          86  5372                          Moved  \n",
      "3         Yes           1          84  5003                          Moved  \n",
      "4         Yes           1          89  5340  Competitor had better devices  \n",
      "\n",
      "[5 rows x 33 columns]\n"
     ]
    }
   ],
   "source": [
    "import pandas as pd\n",
    "\n",
    "# loading in the dataset\n",
    "dataset = pd.read_excel(\"./Datasets/Telco_customer_churn.xlsx\")\n",
    "\n",
    "# print the first few rows of the dataset\n",
    "print(dataset.head())\n",
    "\n",
    "# X = dataset.drop(columns=[\"Tech Support\", \"Streaming TV\", \"Streaming Movies\", \"Device Protection\", \"Online Backup\", \"Online Security\", \"Internet Service\", \"Partner\", \"Dependents\", \"Phone Service\", \"Multiple Lines\", \"Senior Citizen\", \"Phone Service\", \"Churn Value\", \"CustomerID\", \"Country\", \"State\", \"City\", \"Zip Code\", \"Gender\", \"Contract\", \"Paperless Billing\", \"Payment Method\", \"Churn Label\", \"Churn Score\", \"Churn Reason\"])\n",
    "# print(X.head())"
   ]
  },
  {
   "cell_type": "markdown",
   "metadata": {},
   "source": [
    "### Data Cleaning\n"
   ]
  },
  {
   "cell_type": "code",
   "execution_count": 10,
   "metadata": {},
   "outputs": [
    {
     "name": "stdout",
     "output_type": "stream",
     "text": [
      "   Gender  Senior Citizen  Partner  Dependents  Tenure Months  Multiple Lines  \\\n",
      "0       1               0        0           0              2               0   \n",
      "1       0               0        0           1              2               0   \n",
      "2       0               0        0           1              8               1   \n",
      "3       0               0        1           1             28               1   \n",
      "4       1               0        0           1             49               1   \n",
      "\n",
      "  Internet Service  Online Security  Online Backup  Device Protection  \\\n",
      "0              DSL                1              1                  0   \n",
      "1      Fiber optic                0              0                  0   \n",
      "2      Fiber optic                0              0                  1   \n",
      "3      Fiber optic                0              0                  1   \n",
      "4      Fiber optic                0              1                  1   \n",
      "\n",
      "   Tech Support  Streaming TV  Streaming Movies        Contract  \\\n",
      "0             0             0                 0  Month-to-month   \n",
      "1             0             0                 0  Month-to-month   \n",
      "2             0             1                 1  Month-to-month   \n",
      "3             1             1                 1  Month-to-month   \n",
      "4             0             1                 1  Month-to-month   \n",
      "\n",
      "   Paperless Billing             Payment Method  Monthly Charges  \\\n",
      "0                  1               Mailed check            53.85   \n",
      "1                  1           Electronic check            70.70   \n",
      "2                  1           Electronic check            99.65   \n",
      "3                  1           Electronic check           104.80   \n",
      "4                  1  Bank transfer (automatic)           103.70   \n",
      "\n",
      "  Total Charges  CLTV  \n",
      "0        108.15  3239  \n",
      "1        151.65  2701  \n",
      "2         820.5  5372  \n",
      "3       3046.05  5003  \n",
      "4        5036.3  5340  \n"
     ]
    }
   ],
   "source": [
    "Y = dataset[\"Churn Value\"]\n",
    "\n",
    "# dropping all unnecessary / unwanted columns\n",
    "X = dataset.drop(columns=[\n",
    "    \"CustomerID\", \"Country\", \"State\", \"Count\", \"Latitude\", \"Longitude\", \"Lat Long\", \"City\", \"Zip Code\", \"Phone Service\",\n",
    "    \"Churn Label\", \"Churn Value\", \"Churn Score\", \"Churn Reason\"\n",
    "])\n",
    "\n",
    "## encoding Categorical Values to Numerical Values\n",
    "# 1 if Senior Citizen else 0\n",
    "X[\"Senior Citizen\"] = X.apply(lambda x: 0 if x[\"Senior Citizen\"] == \"No\" else 1, axis=1)\n",
    "# 1 if male else 0\n",
    "X[\"Gender\"] = X.apply(lambda x: 1 if x[\"Gender\"]==\"Male\" else 0, axis=1)\n",
    "# 1 if Partner else 0\n",
    "X[\"Partner\"] = X.apply(lambda x: 1 if x[\"Partner\"]==\"Yes\" else 0, axis=1)\n",
    "# 1 if Dependents else 0\n",
    "X[\"Dependents\"] = X.apply(lambda x: 1 if x[\"Dependents\"]==\"Yes\" else 0, axis=1)\n",
    "# 1 if multiple Lines else 0\n",
    "X[\"Multiple Lines\"] = X.apply(lambda x: 1 if x[\"Multiple Lines\"] == \"Yes\" else 0, axis=1)\n",
    "# 1 if Online Security else 0\n",
    "X[\"Online Security\"] = X.apply(lambda x: 1 if x[\"Online Security\"] == \"Yes\" else 0, axis=1)\n",
    "# 1 if Online Backup else 0\n",
    "X[\"Online Backup\"] = X.apply(lambda x: 1 if x[\"Online Backup\"] == \"Yes\" else 0, axis=1)\n",
    "# 1 if Device Protection else 0\n",
    "X[\"Device Protection\"] = X.apply(lambda x: 1 if x[\"Device Protection\"] == \"Yes\" else 0, axis=1)\n",
    "# 1 if Tech Support else 0\n",
    "X[\"Tech Support\"] = X.apply(lambda x: 1 if x[\"Tech Support\"] == \"Yes\" else 0, axis=1)\n",
    "# 1 if Streaming TV else 0\n",
    "X[\"Streaming TV\"] = X.apply(lambda x: 1 if x[\"Streaming TV\"] == \"Yes\" else 0, axis=1)\n",
    "# 1 if Streaming Movies else 0\n",
    "X[\"Streaming Movies\"] = X.apply(lambda x: 1 if x[\"Streaming Movies\"] == \"Yes\" else 0, axis=1)\n",
    "# 1 if Paperless Billing else 0\n",
    "X[\"Paperless Billing\"] = X.apply(lambda x: 1 if x[\"Paperless Billing\"] == \"Yes\" else 0, axis=1)\n",
    "\n",
    "\n",
    "\n",
    "print(X.head())"
   ]
  },
  {
   "cell_type": "code",
   "execution_count": 11,
   "metadata": {},
   "outputs": [
    {
     "name": "stdout",
     "output_type": "stream",
     "text": [
      "   Gender  Senior Citizen  Partner  Dependents  Tenure Months  Multiple Lines  \\\n",
      "0       1               0        0           0              2               0   \n",
      "1       0               0        0           1              2               0   \n",
      "2       0               0        0           1              8               1   \n",
      "3       0               0        1           1             28               1   \n",
      "4       1               0        0           1             49               1   \n",
      "\n",
      "   Online Security  Online Backup  Device Protection  Tech Support  ...  CLTV  \\\n",
      "0                1              1                  0             0  ...  3239   \n",
      "1                0              0                  0             0  ...  2701   \n",
      "2                0              0                  1             0  ...  5372   \n",
      "3                0              0                  1             1  ...  5003   \n",
      "4                0              1                  1             0  ...  5340   \n",
      "\n",
      "   Fibre-Optics_Service  DSL_Service  month-to-month_contract  \\\n",
      "0                     0            1                        1   \n",
      "1                     0            0                        1   \n",
      "2                     0            0                        1   \n",
      "3                     0            0                        1   \n",
      "4                     0            0                        1   \n",
      "\n",
      "  one-year_contract  two-year_contract  bank-transfer-auto_paymentmethod  \\\n",
      "0                 0                  0                                 0   \n",
      "1                 0                  0                                 0   \n",
      "2                 0                  0                                 0   \n",
      "3                 0                  0                                 0   \n",
      "4                 0                  0                                 1   \n",
      "\n",
      "   credit-card-auto_paymentmethod  electronic-check_paymentmethod  \\\n",
      "0                               0                               0   \n",
      "1                               0                               1   \n",
      "2                               0                               1   \n",
      "3                               0                               1   \n",
      "4                               0                               0   \n",
      "\n",
      "   mailed-check_paymentmethod  \n",
      "0                           1  \n",
      "1                           0  \n",
      "2                           0  \n",
      "3                           0  \n",
      "4                           0  \n",
      "\n",
      "[5 rows x 25 columns]\n"
     ]
    }
   ],
   "source": [
    "# Creating new columns\n",
    "\n",
    "X[\"Fibre-Optics_Service\"] = X.apply(lambda x: 1 if x[\"Internet Service\"]==\"Fibre optic\" else 0, axis=1)\n",
    "X[\"DSL_Service\"] = X.apply(lambda x: 1 if x[\"Internet Service\"]==\"DSL\" else 0, axis=1)\n",
    "\n",
    "X[\"month-to-month_contract\"] = X.apply(lambda x: 1 if x[\"Contract\"]==\"Month-to-month\" else 0, axis=1)\n",
    "X[\"one-year_contract\"] = X.apply(lambda x: 1 if x[\"Contract\"]==\"One year\" else 0, axis=1)\n",
    "X[\"two-year_contract\"] = X.apply(lambda x: 1 if x[\"Contract\"]==\"Two year\" else 0, axis=1)\n",
    "\n",
    "X[\"bank-transfer-auto_paymentmethod\"] = X.apply(lambda x: 1 if x[\"Payment Method\"]==\"Bank transfer (automatic)\" else 0, axis=1)\n",
    "X[\"credit-card-auto_paymentmethod\"] = X.apply(lambda x: 1 if x[\"Payment Method\"]==\"Credit card (automatic)\" else 0, axis=1)\n",
    "X[\"electronic-check_paymentmethod\"] = X.apply(lambda x: 1 if x[\"Payment Method\"]==\"Electronic check\" else 0, axis=1)\n",
    "X[\"mailed-check_paymentmethod\"] = X.apply(lambda x: 1 if x[\"Payment Method\"]==\"Mailed check\" else 0, axis=1)\n",
    "\n",
    "X = X.drop(columns=[\"Internet Service\", \"Contract\", \"Payment Method\"])\n",
    "\n",
    "print(X.head())"
   ]
  },
  {
   "cell_type": "markdown",
   "metadata": {},
   "source": [
    "Saving Clearned dataset into a new csv file"
   ]
  },
  {
   "cell_type": "code",
   "execution_count": 12,
   "metadata": {},
   "outputs": [],
   "source": [
    "X[\"Churn Value\"] = Y\n",
    "X.to_excel(\"./Datasets/Cleaned-Features.xlsx\")"
   ]
  }
 ],
 "metadata": {
  "kernelspec": {
   "display_name": "Python 3",
   "language": "python",
   "name": "python3"
  },
  "language_info": {
   "codemirror_mode": {
    "name": "ipython",
    "version": 3
   },
   "file_extension": ".py",
   "mimetype": "text/x-python",
   "name": "python",
   "nbconvert_exporter": "python",
   "pygments_lexer": "ipython3",
   "version": "3.11.1"
  },
  "orig_nbformat": 4
 },
 "nbformat": 4,
 "nbformat_minor": 2
}
