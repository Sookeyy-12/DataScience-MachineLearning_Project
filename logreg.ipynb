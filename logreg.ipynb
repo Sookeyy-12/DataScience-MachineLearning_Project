{
 "cells": [
  {
   "cell_type": "markdown",
   "metadata": {},
   "source": [
    "## Performing Logistic Regression\n",
    "- To Classify whether the Customer will Churn out or not"
   ]
  },
  {
   "cell_type": "markdown",
   "metadata": {},
   "source": [
    "### Loading the Datasets"
   ]
  },
  {
   "cell_type": "code",
   "execution_count": 90,
   "metadata": {},
   "outputs": [],
   "source": [
    "import pandas as pd\n",
    "# dataset with original features\n",
    "X_original = pd.read_excel(\"./Datasets/Filtered_features.xlsx\")\n",
    "# dataset with features of reduced Dimensionality\n",
    "X_pca = pd.read_excel(\"./Datasets/PCA_features.xlsx\")"
   ]
  },
  {
   "cell_type": "markdown",
   "metadata": {},
   "source": [
    "seprating the features and labels"
   ]
  },
  {
   "cell_type": "code",
   "execution_count": 91,
   "metadata": {},
   "outputs": [],
   "source": [
    "features_original = X_original.drop(columns=[\"Churn Value\"])\n",
    "\n",
    "features_pca = X_pca\n",
    "\n",
    "y_original = X_original[\"Churn Value\"]\n",
    "y_pca = X_original[\"Churn Value\"]"
   ]
  },
  {
   "cell_type": "markdown",
   "metadata": {},
   "source": [
    "### Splitting the Data into Train Test Split"
   ]
  },
  {
   "cell_type": "code",
   "execution_count": 92,
   "metadata": {},
   "outputs": [],
   "source": [
    "from sklearn.model_selection import train_test_split\n",
    "# for original features\n",
    "X_train_original, X_test_original, y_train_original, y_test_original = train_test_split(features_original, y_original, test_size=0.33, random_state=69)\n",
    "# for pca features\n",
    "X_train_pca, X_test_pca, y_train_pca, y_test_pca = train_test_split(features_pca, y_pca, test_size=0.33, random_state=69)"
   ]
  },
  {
   "cell_type": "markdown",
   "metadata": {},
   "source": [
    "### Creating and fitting Logistic Regression models"
   ]
  },
  {
   "cell_type": "code",
   "execution_count": 93,
   "metadata": {},
   "outputs": [],
   "source": [
    "from sklearn.linear_model import LogisticRegression\n",
    "\n",
    "# model for original features\n",
    "model_original = LogisticRegression(max_iter=1000)\n",
    "model_original.fit(X_train_original, y_train_original)\n",
    "original_predicted = model_original.predict(X_test_original)\n",
    "\n",
    "# model for pca features\n",
    "model_pca = LogisticRegression(max_iter=1000)\n",
    "model_pca.fit(X_train_pca, y_train_pca)\n",
    "pca_predicted = model_pca.predict(X_test_pca)"
   ]
  },
  {
   "cell_type": "markdown",
   "metadata": {},
   "source": [
    "### Scoring the model\n",
    "- on the basis of Accuracy\n",
    "- on the basis of Precision\n",
    "- on the basis of Recall\n",
    "- on the basis of F1"
   ]
  },
  {
   "cell_type": "code",
   "execution_count": 94,
   "metadata": {},
   "outputs": [
    {
     "name": "stdout",
     "output_type": "stream",
     "text": [
      "Accuracy Score (with original features): \n",
      "0.7970702283498492 \n",
      "\n",
      "Precision Score (with original features): \n",
      "0.6456400742115028 \n",
      "\n",
      "Recall Score (with original features): \n",
      "0.554140127388535 \n",
      "\n",
      "F1 Score (with original features): \n",
      "0.596401028277635 \n",
      " \n",
      "\n",
      "Accuracy Score (with pca features): \n",
      "0.999569151227919 \n",
      "\n",
      "Precision Score (with pca features): \n",
      "0.9984101748807631 \n",
      "\n",
      "Recall Score (with pca features): \n",
      "1.0 \n",
      "\n",
      "F1 Score (with pca features): \n",
      "0.9992044550517105 \n",
      "\n"
     ]
    }
   ],
   "source": [
    "from sklearn.metrics import accuracy_score, precision_score, recall_score, f1_score\n",
    "\n",
    "# for original features\n",
    "print(\"Accuracy Score (with original features): \")\n",
    "print(accuracy_score(y_test_original, original_predicted), \"\\n\")\n",
    "print(\"Precision Score (with original features): \")\n",
    "print(precision_score(y_test_original, original_predicted), \"\\n\")\n",
    "print(\"Recall Score (with original features): \")\n",
    "print(recall_score(y_test_original, original_predicted), \"\\n\")\n",
    "print(\"F1 Score (with original features): \")\n",
    "print(f1_score(y_test_original, original_predicted), \"\\n\", \"\\n\")\n",
    "\n",
    "# for pca features\n",
    "print(\"Accuracy Score (with pca features): \")\n",
    "print(accuracy_score(y_test_pca, pca_predicted), \"\\n\")\n",
    "print(\"Precision Score (with pca features): \")\n",
    "print(precision_score(y_test_pca, pca_predicted), \"\\n\")\n",
    "print(\"Recall Score (with pca features): \")\n",
    "print(recall_score(y_test_pca, pca_predicted), \"\\n\")\n",
    "print(\"F1 Score (with pca features): \")\n",
    "print(f1_score(y_test_pca, pca_predicted), \"\\n\")\n"
   ]
  },
  {
   "cell_type": "code",
   "execution_count": 100,
   "metadata": {},
   "outputs": [
    {
     "name": "stdout",
     "output_type": "stream",
     "text": [
      "[[1692    1]\n",
      " [   0  628]]\n",
      "[[1502  191]\n",
      " [ 280  348]]\n"
     ]
    }
   ],
   "source": [
    "from sklearn.metrics import confusion_matrix\n",
    "print(confusion_matrix(y_test_pca, pca_predicted))\n",
    "print(confusion_matrix(y_test_original, original_predicted))"
   ]
  }
 ],
 "metadata": {
  "kernelspec": {
   "display_name": "Python 3",
   "language": "python",
   "name": "python3"
  },
  "language_info": {
   "codemirror_mode": {
    "name": "ipython",
    "version": 3
   },
   "file_extension": ".py",
   "mimetype": "text/x-python",
   "name": "python",
   "nbconvert_exporter": "python",
   "pygments_lexer": "ipython3",
   "version": "3.11.1"
  },
  "orig_nbformat": 4
 },
 "nbformat": 4,
 "nbformat_minor": 2
}
