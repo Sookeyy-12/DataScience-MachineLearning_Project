{
 "cells": [
  {
   "cell_type": "code",
   "execution_count": 64,
   "metadata": {},
   "outputs": [],
   "source": [
    "import pandas as pd\n",
    "\n",
    "dataset = pd.read_excel(\"./Datasets/wow.xlsx\")\n",
    "\n",
    "y = dataset[\"Churn Value\"]"
   ]
  },
  {
   "cell_type": "code",
   "execution_count": 66,
   "metadata": {},
   "outputs": [],
   "source": [
    "from sklearn.linear_model import LogisticRegression\n",
    "\n",
    "model = LogisticRegression()\n",
    "\n",
    "features = dataset[[\"Gender\" ,\"Senior Citizen\", \"Partner\", \"Dependents\", \"Tenure Months\", \"Multiple Lines\", \"Online Security\", \"Online Backup\", \"Device Protection\", \"Tech Support\", \"Streaming TV\", \"Streaming Movies\", \"Paperless Billing\", \"Monthly Charges\", \"Total Charges\", \"CLTV\", \"Fibre-Optics_Service\" ,\"DSL_Service\" , \"month-to-month_contract\" , \"one-year_contract\", \"two-year_contract\", \"bank-transfer-auto_paymentmethod\", \"credit-card-auto_paymentmethod\", \"electronic-check_paymentmethod\", \"mailed-check_paymentmethod\"]]\n",
    "label = y"
   ]
  },
  {
   "cell_type": "code",
   "execution_count": null,
   "metadata": {},
   "outputs": [],
   "source": []
  }
 ],
 "metadata": {
  "kernelspec": {
   "display_name": "Python 3",
   "language": "python",
   "name": "python3"
  },
  "language_info": {
   "codemirror_mode": {
    "name": "ipython",
    "version": 3
   },
   "file_extension": ".py",
   "mimetype": "text/x-python",
   "name": "python",
   "nbconvert_exporter": "python",
   "pygments_lexer": "ipython3",
   "version": "3.11.1"
  },
  "orig_nbformat": 4
 },
 "nbformat": 4,
 "nbformat_minor": 2
}
