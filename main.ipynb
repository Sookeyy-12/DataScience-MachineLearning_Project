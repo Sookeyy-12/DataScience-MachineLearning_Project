{
 "cells": [
  {
   "cell_type": "code",
   "execution_count": 108,
   "metadata": {},
   "outputs": [
    {
     "name": "stdout",
     "output_type": "stream",
     "text": [
      "   Unnamed: 0  Gender  Senior Citizen  Partner  Dependents  Tenure Months  \\\n",
      "0           0       1               0        0           0              2   \n",
      "1           1       0               0        0           1              2   \n",
      "2           2       0               0        0           1              8   \n",
      "3           3       0               0        1           1             28   \n",
      "4           4       1               0        0           1             49   \n",
      "\n",
      "   Multiple Lines  Online Security  Online Backup  Device Protection  ...  \\\n",
      "0               0                1              1                  0  ...   \n",
      "1               0                0              0                  0  ...   \n",
      "2               1                0              0                  1  ...   \n",
      "3               1                0              0                  1  ...   \n",
      "4               1                0              1                  1  ...   \n",
      "\n",
      "   Fibre-Optics_Service  DSL_Service  month-to-month_contract  \\\n",
      "0                     0            1                        1   \n",
      "1                     0            0                        1   \n",
      "2                     0            0                        1   \n",
      "3                     0            0                        1   \n",
      "4                     0            0                        1   \n",
      "\n",
      "   one-year_contract  two-year_contract bank-transfer-auto_paymentmethod  \\\n",
      "0                  0                  0                                0   \n",
      "1                  0                  0                                0   \n",
      "2                  0                  0                                0   \n",
      "3                  0                  0                                0   \n",
      "4                  0                  0                                1   \n",
      "\n",
      "   credit-card-auto_paymentmethod  electronic-check_paymentmethod  \\\n",
      "0                               0                               0   \n",
      "1                               0                               1   \n",
      "2                               0                               1   \n",
      "3                               0                               1   \n",
      "4                               0                               0   \n",
      "\n",
      "   mailed-check_paymentmethod  Churn Value  \n",
      "0                           1            1  \n",
      "1                           0            1  \n",
      "2                           0            1  \n",
      "3                           0            1  \n",
      "4                           0            1  \n",
      "\n",
      "[5 rows x 27 columns]\n",
      "0    1\n",
      "1    1\n",
      "2    1\n",
      "3    1\n",
      "4    1\n",
      "Name: Churn Value, dtype: int64\n"
     ]
    }
   ],
   "source": [
    "import pandas as pd\n",
    "\n",
    "X = pd.read_excel(\"./Datasets/Cleaned-Features.xlsx\")\n",
    "Y = pd.read_excel(\"./Datasets/Telco_customer_churn.xlsx\")\n",
    "y = Y[\"Churn Value\"]\n",
    "\n",
    "print(X.head())\n",
    "print(y.head())"
   ]
  },
  {
   "cell_type": "markdown",
   "metadata": {},
   "source": [
    "Scaling Features"
   ]
  },
  {
   "cell_type": "code",
   "execution_count": 109,
   "metadata": {},
   "outputs": [],
   "source": [
    "for i in X[\"Total Charges\"]:\n",
    "    if type(i) == int:\n",
    "        i = float(i)\n",
    "    \n",
    "X[\"Total Charges\"] = pd.to_numeric(X[\"Total Charges\"], errors='coerce')\n",
    "X[\"Total Charges \"] = X[\"Total Charges\"].dropna()"
   ]
  },
  {
   "cell_type": "code",
   "execution_count": 110,
   "metadata": {},
   "outputs": [],
   "source": [
    "from sklearn import preprocessing\n",
    "scaler = preprocessing.StandardScaler()\n",
    "cols = [\"CLTV\", \"Tenure Months\", \"Monthly Charges\", \"Total Charges\"]\n",
    "for i in cols:\n",
    "    X[i] = scaler.fit_transform(X[i].values.reshape(-1, 1))"
   ]
  },
  {
   "cell_type": "code",
   "execution_count": 111,
   "metadata": {},
   "outputs": [],
   "source": [
    "X = X.dropna(how='any')\n",
    "# print(X.isna().sum())\n",
    "X = X.to_excel(\"./Datasets/wow.xlsx\")"
   ]
  }
 ],
 "metadata": {
  "kernelspec": {
   "display_name": "Python 3",
   "language": "python",
   "name": "python3"
  },
  "language_info": {
   "codemirror_mode": {
    "name": "ipython",
    "version": 3
   },
   "file_extension": ".py",
   "mimetype": "text/x-python",
   "name": "python",
   "nbconvert_exporter": "python",
   "pygments_lexer": "ipython3",
   "version": "3.11.1"
  },
  "orig_nbformat": 4
 },
 "nbformat": 4,
 "nbformat_minor": 2
}
