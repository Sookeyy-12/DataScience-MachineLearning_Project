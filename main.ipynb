{
 "cells": [
  {
   "cell_type": "code",
   "execution_count": 2,
   "metadata": {},
   "outputs": [
    {
     "name": "stdout",
     "output_type": "stream",
     "text": [
      "   Unnamed: 0  Gender  Senior Citizen  Partner  Dependents  Tenure Months  \\\n",
      "0           0       1               0        0           0              2   \n",
      "1           1       0               0        0           1              2   \n",
      "2           2       0               0        0           1              8   \n",
      "3           3       0               0        1           1             28   \n",
      "4           4       1               0        0           1             49   \n",
      "\n",
      "   Multiple Lines  Online Security  Online Backup  Device Protection  ...  \\\n",
      "0               0                1              1                  0  ...   \n",
      "1               0                0              0                  0  ...   \n",
      "2               1                0              0                  1  ...   \n",
      "3               1                0              0                  1  ...   \n",
      "4               1                0              1                  1  ...   \n",
      "\n",
      "   CLTV  Fibre-Optics_Service  DSL_Service  month-to-month_contract  \\\n",
      "0  3239                     0            1                        1   \n",
      "1  2701                     0            0                        1   \n",
      "2  5372                     0            0                        1   \n",
      "3  5003                     0            0                        1   \n",
      "4  5340                     0            0                        1   \n",
      "\n",
      "   one-year_contract two-year_contract  bank-transfer-auto_paymentmethod  \\\n",
      "0                  0                 0                                 0   \n",
      "1                  0                 0                                 0   \n",
      "2                  0                 0                                 0   \n",
      "3                  0                 0                                 0   \n",
      "4                  0                 0                                 1   \n",
      "\n",
      "   credit-card-auto_paymentmethod  electronic-check_paymentmethod  \\\n",
      "0                               0                               0   \n",
      "1                               0                               1   \n",
      "2                               0                               1   \n",
      "3                               0                               1   \n",
      "4                               0                               0   \n",
      "\n",
      "   mailed-check_paymentmethod  \n",
      "0                           1  \n",
      "1                           0  \n",
      "2                           0  \n",
      "3                           0  \n",
      "4                           0  \n",
      "\n",
      "[5 rows x 26 columns]\n",
      "0    1\n",
      "1    1\n",
      "2    1\n",
      "3    1\n",
      "4    1\n",
      "Name: Churn Value, dtype: int64\n"
     ]
    }
   ],
   "source": [
    "import pandas as pd\n",
    "\n",
    "X = pd.read_excel(\"./Datasets/Cleaned-Features.xlsx\")\n",
    "Y = pd.read_excel(\"./Datasets/Telco_customer_churn.xlsx\")\n",
    "y = Y[\"Churn Value\"]\n",
    "\n",
    "print(X.head())\n",
    "print(y.head())"
   ]
  },
  {
   "cell_type": "code",
   "execution_count": null,
   "metadata": {},
   "outputs": [],
   "source": [
    "from sklearn.model_selection import train_test_split\n",
    "\n",
    "X_train, X_test, y_train, y_test = train_test_split(X, y, train_size=0.7, test_size=0.3, random_state=69)"
   ]
  }
 ],
 "metadata": {
  "kernelspec": {
   "display_name": "Python 3",
   "language": "python",
   "name": "python3"
  },
  "language_info": {
   "codemirror_mode": {
    "name": "ipython",
    "version": 3
   },
   "file_extension": ".py",
   "mimetype": "text/x-python",
   "name": "python",
   "nbconvert_exporter": "python",
   "pygments_lexer": "ipython3",
   "version": "3.11.1"
  },
  "orig_nbformat": 4
 },
 "nbformat": 4,
 "nbformat_minor": 2
}
